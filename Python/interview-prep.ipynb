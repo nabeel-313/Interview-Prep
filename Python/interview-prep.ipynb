{
 "cells": [
  {
   "cell_type": "code",
   "execution_count": 20,
   "metadata": {},
   "outputs": [
    {
     "name": "stdout",
     "output_type": "stream",
     "text": [
      "5 2 "
     ]
    }
   ],
   "source": [
    "# Python Function to print leaders in array \n",
    "\n",
    "def printLeaders(arr,size): \n",
    "\t\n",
    "\tfor i in range(0, size): \n",
    "\t\tfor j in range(i+1, size): \n",
    "\t\t\tif arr[i]<=arr[j]: \n",
    "\t\t\t\tbreak\n",
    "\t\tif j == size-1: # If loop didn't break \n",
    "\t\t\tprint (arr[i],end=' ') \n",
    "\t\n",
    "\n",
    "# Driver function \n",
    "arr=[1, 2, 3, 4, 5, 2] \n",
    "printLeaders(arr, len(arr)) \n",
    "\n"
   ]
  },
  {
   "cell_type": "code",
   "execution_count": 15,
   "metadata": {},
   "outputs": [
    {
     "name": "stdout",
     "output_type": "stream",
     "text": [
      "[2, 2]\n"
     ]
    }
   ],
   "source": [
    "a = [1, 2, 3, 4, 5, 2] \n",
    "leaders = []\n",
    "for b in range(0, len(a)):\n",
    "    for c in range(b+1, len(a)):\n",
    "        if a[b] < a[c]:\n",
    "            pass\n",
    "        else:\n",
    "            if a[c] not in leaders:\n",
    "                leaders.append(a[c])\n",
    "leaders.append(a[-1])\n",
    "print(leaders)"
   ]
  },
  {
   "cell_type": "code",
   "execution_count": 18,
   "metadata": {},
   "outputs": [
    {
     "name": "stdout",
     "output_type": "stream",
     "text": [
      "given word is not palindrome\n"
     ]
    }
   ],
   "source": [
    "def is_palindrome(string):\n",
    "    reverse = string[::-1]\n",
    "    if reverse == string:\n",
    "        return True\n",
    "    else:\n",
    "        return False\n",
    "word = 'madm'\n",
    "if is_palindrome(word):\n",
    "    print(\"given word is palindrome\")\n",
    "else:\n",
    "    print(\"given word is not palindrome\")"
   ]
  },
  {
   "cell_type": "code",
   "execution_count": 24,
   "metadata": {},
   "outputs": [
    {
     "name": "stdout",
     "output_type": "stream",
     "text": [
      "The factorial of 4 is 24\n"
     ]
    }
   ],
   "source": [
    "def factorial(n):\n",
    "    if n == 0:\n",
    "        return 1\n",
    "    else:\n",
    "        return n*factorial(n-1)\n",
    "number = 4\n",
    "result = factorial(number)\n",
    "print(f\"The factorial of {number} is {result}\")"
   ]
  },
  {
   "cell_type": "markdown",
   "metadata": {},
   "source": [
    "##### Question 3: Write a Python program to find the largest element in a list."
   ]
  },
  {
   "cell_type": "code",
   "execution_count": 27,
   "metadata": {},
   "outputs": [
    {
     "data": {
      "text/plain": [
       "77"
      ]
     },
     "execution_count": 27,
     "metadata": {},
     "output_type": "execute_result"
    }
   ],
   "source": [
    "def largest(n):\n",
    "    large = n[0]\n",
    "    for num in n:\n",
    "        if num > large:\n",
    "            large = num\n",
    "    return large\n",
    "n = [1,77,2,3,4,8,9]\n",
    "largest(n)"
   ]
  },
  {
   "cell_type": "markdown",
   "metadata": {},
   "source": [
    "##### Write a Python program to reverse a string"
   ]
  },
  {
   "cell_type": "code",
   "execution_count": 66,
   "metadata": {},
   "outputs": [
    {
     "name": "stdout",
     "output_type": "stream",
     "text": [
      "Hello, World!\n",
      "!dlroW ,olleH\n",
      "!dlroW ,olleH\n",
      "[6, 5, 4, 3, 2, 1]\n"
     ]
    }
   ],
   "source": [
    "def reverse_string(string):\n",
    "    return string[::-1]\n",
    "\n",
    "# Test the function\n",
    "text = \"Hello, World!\"\n",
    "print(text)\n",
    "reversed_text = reverse_string(text)\n",
    "print(reversed_text)\n",
    "\n",
    "text1 = ''\n",
    "for st in text:\n",
    "    text1 = st + text1\n",
    "print(text1)\n",
    "\n",
    "## Reverse list\n",
    "d = [1,2,3,4,5,6]\n",
    "rev_d = []\n",
    "for i in d:\n",
    "    rev_d.insert(0,i)\n",
    "print(rev_d)"
   ]
  },
  {
   "cell_type": "markdown",
   "metadata": {},
   "source": [
    "#####  Write a Python program to count the frequency of each element in a list."
   ]
  },
  {
   "cell_type": "code",
   "execution_count": 39,
   "metadata": {},
   "outputs": [
    {
     "data": {
      "text/plain": [
       "{1: 1, 2: 2, 3: 1, 4: 2, 5: 3, 7: 1, 8: 3}"
      ]
     },
     "execution_count": 39,
     "metadata": {},
     "output_type": "execute_result"
    }
   ],
   "source": [
    "def freq_count(numbers):\n",
    "    freq = {}\n",
    "    for num in numbers:\n",
    "        if num in freq:\n",
    "            freq[num] = freq[num]+1\n",
    "        else:\n",
    "            freq[num] = 1\n",
    "    return freq\n",
    "lst = [1,2,2,3,4,4,5,5,5,7,8,8,8]\n",
    "freq_count(lst)"
   ]
  },
  {
   "cell_type": "markdown",
   "metadata": {},
   "source": [
    "##### Write a Python program to check if a number is prime."
   ]
  },
  {
   "cell_type": "code",
   "execution_count": 45,
   "metadata": {},
   "outputs": [
    {
     "name": "stdout",
     "output_type": "stream",
     "text": [
      "prime no\n"
     ]
    }
   ],
   "source": [
    "def prime(n):\n",
    "    if n < 2:\n",
    "        return False\n",
    "    for i in range(2,n):\n",
    "            if n % i == 0:\n",
    "                return False\n",
    "    return True\n",
    "num = 19\n",
    "if prime(num):\n",
    "    print('prime no')\n",
    "else:\n",
    "    print(\"not a prime\")"
   ]
  },
  {
   "cell_type": "markdown",
   "metadata": {},
   "source": [
    "##### Write a Python program to find the common elements between two lists."
   ]
  },
  {
   "cell_type": "code",
   "execution_count": 46,
   "metadata": {},
   "outputs": [
    {
     "data": {
      "text/plain": [
       "[3, 4]"
      ]
     },
     "execution_count": 46,
     "metadata": {},
     "output_type": "execute_result"
    }
   ],
   "source": [
    "def common_elements(l1, l2):\n",
    "    common = []\n",
    "    for a in l1:\n",
    "        if a in l2:\n",
    "            common.append(a)\n",
    "    return common\n",
    "lst1 = [1,2,3,4]\n",
    "lst2 = [5,6,3,4]\n",
    "common_elements(lst1, lst2)"
   ]
  },
  {
   "cell_type": "markdown",
   "metadata": {},
   "source": [
    "##### elements and its datatype"
   ]
  },
  {
   "cell_type": "code",
   "execution_count": 1,
   "metadata": {},
   "outputs": [
    {
     "data": {
      "text/plain": [
       "{2: int, 3: int, 6: int, 'nbl': str}"
      ]
     },
     "execution_count": 1,
     "metadata": {},
     "output_type": "execute_result"
    }
   ],
   "source": [
    "def element_datatype(*argv):\n",
    "    data_types = {}\n",
    "    for t in argv:\n",
    "        data_types[t] = type(t)\n",
    "    return data_types\n",
    "\n",
    "#ele = [2,5.6,'nbl']\n",
    "element_datatype(2,3,6,'nbl')"
   ]
  },
  {
   "cell_type": "markdown",
   "metadata": {},
   "source": [
    "##### Write a Python program to sort a list of elements using the bubble sort algorithm."
   ]
  },
  {
   "cell_type": "code",
   "execution_count": 64,
   "metadata": {},
   "outputs": [
    {
     "name": "stdout",
     "output_type": "stream",
     "text": [
      "[1, 2, 5, 8, 9]\n"
     ]
    }
   ],
   "source": [
    "def bubble_sort(number):\n",
    "    for i in range(len(number)-1):\n",
    "        for j in range(len(number)-1-i):\n",
    "            if number[j] > number[j+1]:\n",
    "                number[j], number[j+1] = number[j+1], number[j]\n",
    "                \n",
    "nums = [5, 2, 8, 1, 9]\n",
    "bubble_sort(nums)\n",
    "print(nums)"
   ]
  },
  {
   "cell_type": "markdown",
   "metadata": {},
   "source": [
    "##### Write a Python program to remove duplicates from a list."
   ]
  },
  {
   "cell_type": "code",
   "execution_count": 63,
   "metadata": {},
   "outputs": [
    {
     "data": {
      "text/plain": [
       "[2, 3, 4, 5, 7, 8]"
      ]
     },
     "execution_count": 63,
     "metadata": {},
     "output_type": "execute_result"
    }
   ],
   "source": [
    "def remove_duplicates(lst):\n",
    "    remove_duplicates = []\n",
    "    for i in lst:\n",
    "        if i not in remove_duplicates:\n",
    "            remove_duplicates.append(i)\n",
    "    return remove_duplicates\n",
    "o = [2,3,4,4,5,2,3,7,8]\n",
    "remove_duplicates(o)"
   ]
  },
  {
   "cell_type": "code",
   "execution_count": 2,
   "metadata": {},
   "outputs": [
    {
     "name": "stdout",
     "output_type": "stream",
     "text": [
      "Palindrome\n"
     ]
    }
   ],
   "source": [
    "num = 2552\n",
    "# Input: 12321\n",
    "temp = num\n",
    "reverse = 0\n",
    "while temp > 0:\n",
    "    remainder = temp % 10 #remainder\n",
    "    reverse = (reverse * 10) + remainder\n",
    "    temp = temp // 10 #floor\n",
    "if num == reverse:\n",
    "  print('Palindrome')\n",
    "else:\n",
    "  print(\"Not Palindrome\")\n",
    "# Output: Palindrome"
   ]
  },
  {
   "cell_type": "markdown",
   "metadata": {},
   "source": [
    "##### https://quescol.com/interview-preparations/python-coding-question"
   ]
  },
  {
   "cell_type": "markdown",
   "metadata": {},
   "source": [
    "##### Armstrong number program"
   ]
  },
  {
   "cell_type": "code",
   "execution_count": 8,
   "metadata": {},
   "outputs": [
    {
     "name": "stdout",
     "output_type": "stream",
     "text": [
      "Not armstrong\n"
     ]
    }
   ],
   "source": [
    "def armstrong(n):\n",
    "    l = len(str(n))\n",
    "    sum = 0\n",
    "    for i in str(n):\n",
    "        sum = sum + int(i)**l\n",
    "    return sum\n",
    "num = 125\n",
    "\n",
    "if armstrong(num) == num:\n",
    "    print(\"Given number is armstrong\")\n",
    "else:\n",
    "    print(\"Not armstrong\")"
   ]
  },
  {
   "cell_type": "markdown",
   "metadata": {},
   "source": [
    "##### Counts of characters in the string"
   ]
  },
  {
   "cell_type": "code",
   "execution_count": 16,
   "metadata": {},
   "outputs": [
    {
     "data": {
      "text/plain": [
       "{'n': 1, 'a': 1, 'b': 1, 'e': 2, 'l': 1}"
      ]
     },
     "execution_count": 16,
     "metadata": {},
     "output_type": "execute_result"
    }
   ],
   "source": [
    "def char_count(string):\n",
    "    count = {}\n",
    "    for ch in string:\n",
    "        if ch not in count:\n",
    "            count[ch] = 1\n",
    "        else:\n",
    "            count[ch] = count[ch] + 1\n",
    "    return count\n",
    "char_count(\"nabeel\")"
   ]
  },
  {
   "cell_type": "markdown",
   "metadata": {},
   "source": [
    "#### Anagram\n",
    "##### If string has same characters with same no of occurrences locations might be different the it is anagram"
   ]
  },
  {
   "cell_type": "code",
   "execution_count": 19,
   "metadata": {},
   "outputs": [
    {
     "name": "stdout",
     "output_type": "stream",
     "text": [
      "Anagram\n"
     ]
    }
   ],
   "source": [
    "def anagram(str1, str2):\n",
    "    if sorted(str1) == sorted(str2):\n",
    "        return True\n",
    "    else:\n",
    "        return False\n",
    "if anagram('nabeel', 'neelba'):\n",
    "    print(\"Anagram\")\n",
    "else:\n",
    "    print(\"not anagram\")"
   ]
  },
  {
   "cell_type": "markdown",
   "metadata": {},
   "source": [
    "##### Write a program in Python for, In array 1-100 numbers are stored, one number is missing how do you find it."
   ]
  },
  {
   "cell_type": "code",
   "execution_count": 38,
   "metadata": {},
   "outputs": [
    {
     "name": "stdout",
     "output_type": "stream",
     "text": [
      "0 0\n",
      "1 1\n",
      "2 2\n",
      "3 3\n",
      "4 4\n",
      "5 5\n",
      "6 6\n",
      "7 7\n",
      "8 8\n",
      "9 10\n",
      "9 no is missing\n",
      "10\n"
     ]
    }
   ],
   "source": [
    "a = [0,1,2,3,4,5,6,7,8,10]\n",
    "for i, n in enumerate(a):\n",
    "    print(i,n)\n",
    "    if (i) != n:\n",
    "        print(f\"{i} no is missing\")\n",
    "        print(n)\n",
    "        \n",
    "        "
   ]
  },
  {
   "cell_type": "markdown",
   "metadata": {},
   "source": [
    "##### Write a program in Python for, How to find all pairs in array of integers whose sum is equal to given number."
   ]
  },
  {
   "cell_type": "code",
   "execution_count": 43,
   "metadata": {},
   "outputs": [
    {
     "data": {
      "text/plain": [
       "[(1, 9), (2, 8), (3, 7), (4, 6), (5, 5)]"
      ]
     },
     "execution_count": 43,
     "metadata": {},
     "output_type": "execute_result"
    }
   ],
   "source": [
    "def pair_sum(array, summ):\n",
    "    pair = []\n",
    "    for i in range(len(array)):\n",
    "        if array[i] + array[i] == summ:\n",
    "            pair.append((array[i], array[i]))\n",
    "        for j in range(i + 1, len(array)):\n",
    "            if array[i] + array[j] == summ:\n",
    "                pair.append((array[i], array[j]))\n",
    "            \n",
    "    return pair\n",
    "ar = [1,2,3,4,5,6,7,8,9,10,11]\n",
    "pair_sum(ar, 10)\n",
    "        "
   ]
  },
  {
   "cell_type": "markdown",
   "metadata": {},
   "source": [
    "##### Sum of all the even numbers in arrays"
   ]
  },
  {
   "cell_type": "code",
   "execution_count": 44,
   "metadata": {},
   "outputs": [
    {
     "data": {
      "text/plain": [
       "12"
      ]
     },
     "execution_count": 44,
     "metadata": {},
     "output_type": "execute_result"
    }
   ],
   "source": [
    "def even_sum(arr):\n",
    "    su = 0\n",
    "    for i in arr:\n",
    "        if i % 2 == 0:\n",
    "            su = su + i\n",
    "    return su\n",
    "arr = [1,2,3,4,5,6]\n",
    "even_sum(arr) "
   ]
  },
  {
   "cell_type": "code",
   "execution_count": 49,
   "metadata": {},
   "outputs": [
    {
     "name": "stdout",
     "output_type": "stream",
     "text": [
      "[1, 2, 3, 4, 5]\n",
      "[3, 4, 5, 1, 2]\n"
     ]
    }
   ],
   "source": [
    "def rotate_left(arr, k):\n",
    "    n = len(arr)\n",
    "    k = k % n  # To handle cases where k is greater than the length of the array\n",
    "\n",
    "    # Slice the array and concatenate the two parts after rotation\n",
    "    rotated_arr = arr[k:] + arr[:k]\n",
    "\n",
    "    return rotated_arr\n",
    "\n",
    "# Example usage:\n",
    "original_array = [1, 2, 3, 4, 5]\n",
    "positions_to_rotate = 2\n",
    "print(original_array)\n",
    "result = rotate_left(original_array, positions_to_rotate)\n",
    "print(result)\n"
   ]
  },
  {
   "cell_type": "code",
   "execution_count": 55,
   "metadata": {},
   "outputs": [
    {
     "name": "stdout",
     "output_type": "stream",
     "text": [
      "[1, 2, 3, 4, 5]\n",
      "[4, 5, 1, 2, 3]\n"
     ]
    }
   ],
   "source": [
    "def rotate_right(arr, k):\n",
    "    n = len(arr)\n",
    "    k = k % n  # To handle cases where k is greater than the length of the array\n",
    "\n",
    "    # Slice the array and concatenate the two parts after rotation\n",
    "    rotated_arr = arr[-k:] + arr[:k+1]\n",
    "\n",
    "    return rotated_arr\n",
    "\n",
    "# Example usage:\n",
    "original_array = [1, 2, 3, 4, 5]\n",
    "# [4,5,1,2,3]\n",
    "positions_to_rotate = 2\n",
    "print(original_array)\n",
    "result = rotate_right(original_array, positions_to_rotate)\n",
    "print(result)"
   ]
  },
  {
   "cell_type": "code",
   "execution_count": 63,
   "metadata": {},
   "outputs": [
    {
     "name": "stdout",
     "output_type": "stream",
     "text": [
      "{1: 2, 2: 2, 3: 2, 4: 4, 5: 6}\n",
      "highest freq is  6\n",
      "Highest frequency element: 5\n"
     ]
    }
   ],
   "source": [
    "arr = [1, 2, 3, 4, 5, 5, 4, 5, 1, 2, 3, 4, 5, 5, 4, 5]\n",
    "freq_dict = {}\n",
    "for element in arr:\n",
    "    if element in freq_dict:\n",
    "        freq_dict[element] += 1\n",
    "    else:\n",
    "        freq_dict[element] = 1\n",
    "highest_freq_element = max(freq_dict)\n",
    "print(freq_dict)\n",
    "print(\"highest freq is \",freq_dict[highest_freq_element])\n",
    "print(\"Highest frequency element:\", highest_freq_element)\n"
   ]
  },
  {
   "cell_type": "markdown",
   "metadata": {},
   "source": [
    "##### Sort a Dictionary by key and value"
   ]
  },
  {
   "cell_type": "code",
   "execution_count": null,
   "metadata": {},
   "outputs": [],
   "source": []
  },
  {
   "cell_type": "code",
   "execution_count": null,
   "metadata": {},
   "outputs": [],
   "source": []
  },
  {
   "cell_type": "code",
   "execution_count": null,
   "metadata": {},
   "outputs": [],
   "source": []
  },
  {
   "cell_type": "code",
   "execution_count": null,
   "metadata": {},
   "outputs": [],
   "source": []
  },
  {
   "cell_type": "markdown",
   "metadata": {},
   "source": [
    "##### Fabonici Series"
   ]
  },
  {
   "cell_type": "code",
   "execution_count": 7,
   "metadata": {},
   "outputs": [
    {
     "name": "stdout",
     "output_type": "stream",
     "text": [
      "1\n",
      "2\n",
      "3\n",
      "5\n",
      "8\n",
      "13\n",
      "21\n",
      "34\n",
      "55\n",
      "89\n"
     ]
    }
   ],
   "source": [
    "n = 10\n",
    "num1 = 0 \n",
    "num2 =1\n",
    "count = 0  \n",
    "next_num = num2\n",
    "while count<n:\n",
    "    print(next_num)\n",
    "    count = count+1\n",
    "    num1,num2 = num2, next_num\n",
    "    next_num = num1+num2"
   ]
  },
  {
   "cell_type": "code",
   "execution_count": 10,
   "metadata": {},
   "outputs": [
    {
     "name": "stdout",
     "output_type": "stream",
     "text": [
      "          \n",
      "    *     \n",
      "   * *    \n",
      "  * * *   \n",
      " * * * *  \n",
      "* * * * * \n"
     ]
    }
   ],
   "source": [
    "for i in range(6):\n",
    "    x = \"* \"\n",
    "    x= x*i\n",
    "    print(f'{x: ^10}')"
   ]
  },
  {
   "cell_type": "code",
   "execution_count": 2,
   "metadata": {},
   "outputs": [
    {
     "data": {
      "text/plain": [
       "'Momin is surname of Nabeel Ahmed having passion in Coding and father is Riyaz Ahmed'"
      ]
     },
     "execution_count": 2,
     "metadata": {},
     "output_type": "execute_result"
    }
   ],
   "source": [
    "class Father:\n",
    "    def __init__(self, surname, fathername):\n",
    "        self.surname = surname\n",
    "        self.fathername = fathername\n",
    "        \n",
    "class Son(Father):\n",
    "    def __init__(self, surname, fathername, name, passion):\n",
    "        super().__init__(surname, fathername)\n",
    "        self.name = name\n",
    "        self.passion = passion\n",
    "    def info_son(self):\n",
    "        info = f\"{self.surname} is surname of {self.name} having passion in {self.passion} and father is {self.fathername}\"\n",
    "        return info\n",
    "    \n",
    "inf = Son('Momin', 'Riyaz Ahmed', 'Nabeel Ahmed', 'Coding')\n",
    "inf.info_son()\n"
   ]
  },
  {
   "cell_type": "code",
   "execution_count": 11,
   "metadata": {},
   "outputs": [],
   "source": [
    "with open ('test.text', 'w') as W_file:\n",
    "    W_file.write (inf.info_son())\n",
    "    \n",
    "with open ('test.text', 'a+') as W_file:\n",
    "    W_file.write ('\\n  This is appended to the the file using append operation.')"
   ]
  },
  {
   "cell_type": "code",
   "execution_count": 53,
   "metadata": {},
   "outputs": [
    {
     "name": "stdout",
     "output_type": "stream",
     "text": [
      "  This is appended to the the file using append operation.\n",
      "['This', 'is', 'appended', 'to', 'the', 'the', 'file', 'using', 'append', 'operation.']\n",
      "  This is appended to the the file using append operation.\n"
     ]
    }
   ],
   "source": [
    "with open ('test.text', 'r') as R_file:\n",
    "    content = R_file.readlines()\n",
    "    for lineno in range(len(content)):\n",
    "        print (content[1])\n",
    "        print(content[1].split())\n",
    "        print(''.join(content[1]))\n",
    "        break\n",
    "        \n",
    "        "
   ]
  },
  {
   "cell_type": "code",
   "execution_count": 33,
   "metadata": {},
   "outputs": [
    {
     "name": "stdout",
     "output_type": "stream",
     "text": [
      "0\n",
      "1\n",
      "2\n",
      "4\n"
     ]
    }
   ],
   "source": [
    "for i in range(5):\n",
    "    if i ==3:\n",
    "        continue\n",
    "    print(i)"
   ]
  },
  {
   "cell_type": "code",
   "execution_count": 4,
   "metadata": {},
   "outputs": [
    {
     "name": "stdout",
     "output_type": "stream",
     "text": [
      "The original string is:  Analytics Vidhya\n",
      "The reversed string is:  ayhdiV scitylanA\n"
     ]
    }
   ],
   "source": [
    "str1 = \"Analytics Vidhya\" \n",
    "str2 = \"\" \n",
    "for i in str1:\n",
    "    str2 = i + str2 \n",
    "print(\"The original string is: \",str1) \n",
    "print(\"The reversed string is: \",str2)"
   ]
  },
  {
   "cell_type": "code",
   "execution_count": 21,
   "metadata": {},
   "outputs": [
    {
     "name": "stdout",
     "output_type": "stream",
     "text": [
      "[1, 4, 9, 16, 25, 36]\n"
     ]
    }
   ],
   "source": [
    "lst = [1,2,3,4,5,6]\n",
    "sqr = map(lambda x: x**2, lst)\n",
    "print(list(sqr))"
   ]
  },
  {
   "cell_type": "code",
   "execution_count": 32,
   "metadata": {},
   "outputs": [
    {
     "name": "stdout",
     "output_type": "stream",
     "text": [
      "[1, 3, 5]\n"
     ]
    }
   ],
   "source": [
    "odd = filter(lambda x:x%2!=0, lst)\n",
    "print(list(odd))"
   ]
  },
  {
   "cell_type": "code",
   "execution_count": 36,
   "metadata": {},
   "outputs": [
    {
     "name": "stdout",
     "output_type": "stream",
     "text": [
      "9\n"
     ]
    }
   ],
   "source": [
    "from functools import reduce\n",
    "odd = [1, 3, 5]\n",
    "sum = reduce(lambda a,b:a+b, list(odd))\n",
    "print(sum)"
   ]
  },
  {
   "cell_type": "code",
   "execution_count": null,
   "metadata": {},
   "outputs": [],
   "source": []
  },
  {
   "cell_type": "code",
   "execution_count": 57,
   "metadata": {},
   "outputs": [
    {
     "name": "stdout",
     "output_type": "stream",
     "text": [
      "3\n"
     ]
    }
   ],
   "source": [
    "## find the min of two\n",
    "mn = lambda x,y:x if x<y else y\n",
    "print(mn(3,8))"
   ]
  },
  {
   "cell_type": "code",
   "execution_count": 2,
   "metadata": {},
   "outputs": [
    {
     "data": {
      "text/plain": [
       "[1, 9, 25, 49, 81]"
      ]
     },
     "execution_count": 2,
     "metadata": {},
     "output_type": "execute_result"
    }
   ],
   "source": [
    "## Retun odd using list comprehension\n",
    "[i*i for i in range(10) if i%2 != 0]"
   ]
  },
  {
   "cell_type": "code",
   "execution_count": 13,
   "metadata": {},
   "outputs": [
    {
     "name": "stdout",
     "output_type": "stream",
     "text": [
      "abc\n"
     ]
    }
   ],
   "source": [
    "st = 'abcabcbb'\n",
    "st1 = ''\n",
    "for i in range(len(st)):\n",
    "    for j in range(i,len(st)):\n",
    "        if st[j] != st[i]:\n",
    "            if st[i] not in st1:\n",
    "                st1 = st1 + st[i]\n",
    "            \n",
    "print(st1)"
   ]
  },
  {
   "cell_type": "code",
   "execution_count": 12,
   "metadata": {},
   "outputs": [
    {
     "name": "stdout",
     "output_type": "stream",
     "text": [
      "The length of the longest non-repeating substring is: 3\n"
     ]
    }
   ],
   "source": [
    "def length_of_longest_substring(s: str) -> int:\n",
    "    result = 0\n",
    "    start = 0\n",
    "    chars = set()\n",
    "\n",
    "    for end in range(len(s)):\n",
    "        char = s[end]\n",
    "\n",
    "        while char in chars:\n",
    "            chars.remove(s[start])\n",
    "            start += 1\n",
    "\n",
    "        chars.add(char)\n",
    "        result = max(result, end - start + 1)\n",
    "\n",
    "    return result\n",
    "\n",
    "# Example usage:\n",
    "input_string = \"abcabcbb\"\n",
    "result = length_of_longest_substring(input_string)\n",
    "print(f\"The length of the longest non-repeating substring is: {result}\")\n"
   ]
  },
  {
   "cell_type": "code",
   "execution_count": 17,
   "metadata": {},
   "outputs": [
    {
     "name": "stdout",
     "output_type": "stream",
     "text": [
      "Longest repetitive sequence: ee\n"
     ]
    }
   ],
   "source": [
    "string = \"nabeel\"\n",
    "longest_sequence = \"\"\n",
    "sequence = \"\"\n",
    "prev_char = \"\"\n",
    "\n",
    "for char in string:\n",
    "    if char == prev_char:\n",
    "        sequence += char\n",
    "    else:\n",
    "        if len(sequence) > len(longest_sequence):\n",
    "            longest_sequence = sequence\n",
    "        sequence = char\n",
    "\n",
    "    prev_char = char\n",
    "\n",
    "if len(sequence) > len(longest_sequence):\n",
    "    longest_sequence = sequence\n",
    "\n",
    "print(\"Longest repetitive sequence:\", longest_sequence)"
   ]
  },
  {
   "cell_type": "code",
   "execution_count": 1,
   "metadata": {},
   "outputs": [
    {
     "name": "stdout",
     "output_type": "stream",
     "text": [
      "5\n"
     ]
    }
   ],
   "source": [
    "def solution(a):\n",
    "\n",
    "\n",
    "  n = len(a)\n",
    "  dp = [1] * n\n",
    "  for i in range(1, n):\n",
    "    for j in range(i):\n",
    "      if a[i] > a[j]:\n",
    "        dp[i] = max(dp[i], dp[j] + 1)\n",
    "\n",
    "\n",
    "\n",
    "  # Find the index of the maximum value in dp.\n",
    "  max_index = 0\n",
    "  for i in range(1, n):\n",
    "    if dp[i] > dp[max_index]:\n",
    "      max_index = i\n",
    "\n",
    "  spike = []\n",
    "  i = max_index\n",
    "  while i >= 0 and dp[i] > 0:\n",
    "    spike.append(a[i])\n",
    "    i -= 1\n",
    "\n",
    "  return len(spike)\n",
    "\n",
    "# Example usage\n",
    "a = [2, 5, 3, 2, 4, 1]\n",
    "print(solution(a))  # Output: 6"
   ]
  }
 ],
 "metadata": {
  "kernelspec": {
   "display_name": "DLNLP",
   "language": "python",
   "name": "python3"
  },
  "language_info": {
   "codemirror_mode": {
    "name": "ipython",
    "version": 3
   },
   "file_extension": ".py",
   "mimetype": "text/x-python",
   "name": "python",
   "nbconvert_exporter": "python",
   "pygments_lexer": "ipython3",
   "version": "3.11.5"
  }
 },
 "nbformat": 4,
 "nbformat_minor": 2
}
